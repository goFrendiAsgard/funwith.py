{
 "metadata": {
  "name": "",
  "signature": "sha256:705dd5820345890ad861c7b010ba828e9740a69f81684607456e48a0e34d6278"
 },
 "nbformat": 3,
 "nbformat_minor": 0,
 "worksheets": [
  {
   "cells": [
    {
     "cell_type": "heading",
     "level": 1,
     "metadata": {},
     "source": [
      "Nilai/Literal"
     ]
    },
    {
     "cell_type": "markdown",
     "metadata": {},
     "source": [
      "Jika anda membuat sebuah rangkaian elektronik, anda tentu harus memikirkan tentang arus listrik yang akan mengalir dalam rangkaian tersebut. Anda harus tahu berapa besar arus yang mengalir, berapa besar tegangannya, berapa besar hambatan yang harus anda berikan supaya komponen elektronik anda tidak rusak.\n",
      "\n",
      "Jika anda membuat suatu sistem antrian pengunjung, anda tentu harus pula memikirkan siapa saja yang akan mengantri di sana. Berapa cepat pelayanan yang akan diberikan, bagaimana orang-orang masuk atau keluar dari antrian tersebut.\n",
      "\n",
      "Demikian pula saat anda hendak membuat sebuah program komputer. Anda harus memikirkan data seperti apa yang akan diolah oleh program anda. Bagaimana data tersebut diproses, apa saja yang akan dilakukan terhadap data tersebut, hasil seperti apa yang anda inginkan.\n",
      "\n",
      "Pada dasarnya data adalah sekumpulan nilai yang dianggap merepresentasikan fakta. Misalnya:\n",
      "\n",
      "* Nilai ulangan Tono adalah `75`. \n",
      "* Nama lengkap Tono adalah `Tono Martono Sutono`.\n",
      "* Tanggal lahir Tono adalah `14 Februari 1990`.\n",
      "\n",
      "Kesemuanya itu merupakan nilai.\n",
      "\n",
      "Setiap nilai memiliki tipe/jenis. nilai `75` bertipe angka, nilai `Tono Martono Sutono` bertipe teks, dan nilai `14 Februari 1990` bertipe tanggal.\n",
      "\n",
      "Setiap bahasa pemrograman memiliki cara yang berbeda-beda dalam memperlakukan tipe data yang berbeda.\n",
      "Secara umum ada beberapa tipe data yang dikenali oleh Python:\n",
      "\n",
      "* __integer__ adalah tipe data bilangan bulat. \n",
      "\n",
      "    `0`, `-1`, `4`, dan `100` termasuk dalam tipe `integer`, sedangkan `5.5`, `0.1`, dan `-4.7` tidaklah termasuk dalam tipe data `integer`.\n",
      "    \n",
      "\n",
      "* __float__ adalah tipe data bilangan rasional.\n",
      "\n",
      "    `0`, `-1`, `4`, `100`, `5.5`, `0.1` semuanya termasuk dalam tipe data `float`.\n",
      "    \n",
      "\n",
      "* __boolean__ adalah tipe data yang hanya memiliki 2 kemungkinan nilai saja, yakni `true` atau `false`.\n",
      "\n",
      "\n",
      "* __string__ adalah tipe data yang terdiri dari sekumpulan karakter. \n",
      "\n",
      "    `Tono`, `Tini`, `Jalan Tidar nomor 100`, semuanya termasuk dalam tipe data `string`. Untuk menulis data `string` dalam script Python, anda harus menggunakan karakter `'` atau `\"` untuk mengapit nilai data yang diinginkan. Misalnya `'Tono'` atau `\"Tini\"`.\n",
      "    \n",
      "* __None__ adalah tipe data yang tidak memiliki nilai.\n",
      "    \n",
      "    \n",
      "* __Tipe data lain__\n",
      "\n",
      "    Masih ada banyak tipe data lain yang akan dibahas dalam bagian-bagian selanjutnya, semisal `list`, `dictionary`, dan `object`.\n",
      "    \n",
      "\n",
      "Mungkin anda bertanya-tanya, bagaimana dengan tanggal? Ada beberapa cara merepresentasikan tanggal. Salah satunya adalah dengan menggunakan `timestamp`, yakni jumlah detik yang sudah berlalu sejak `1 Januari 1970, 00:00:00`. Cara yang lain adalah dengan memisahkan tanggal menjadi 3 bagian (atau 6 bagian jika anda ingin menyertakan jam, menit, dan detik juga). Semisal `14 Februari 1990` akan dipisahkan menjadi `14` yang bertipe `integer`, `2` yang bernilai `integer` (Februari adalah bulan kedua), dan `1990` yang bernilai integer juga.\n",
      "\n",
      "    \n",
      "\n",
      "Nah, mari kita bermain-main sedikit dengan nilai. Jalankan `IPython` dan ketikkan kode berikut:\n",
      "\n",
      "Nilai integer, float, boolean, dan string\n",
      "-----------------------------------------"
     ]
    },
    {
     "cell_type": "code",
     "collapsed": false,
     "input": [
      "# Contoh nilai integer\n",
      "5"
     ],
     "language": "python",
     "metadata": {},
     "outputs": [
      {
       "metadata": {},
       "output_type": "pyout",
       "prompt_number": 9,
       "text": [
        "5"
       ]
      }
     ],
     "prompt_number": 9
    },
    {
     "cell_type": "code",
     "collapsed": false,
     "input": [
      "# Contoh nilai float\n",
      "5.0"
     ],
     "language": "python",
     "metadata": {},
     "outputs": [
      {
       "metadata": {},
       "output_type": "pyout",
       "prompt_number": 11,
       "text": [
        "5.0"
       ]
      }
     ],
     "prompt_number": 11
    },
    {
     "cell_type": "code",
     "collapsed": false,
     "input": [
      "# Contoh nilai boolean\n",
      "True"
     ],
     "language": "python",
     "metadata": {},
     "outputs": [
      {
       "metadata": {},
       "output_type": "pyout",
       "prompt_number": 12,
       "text": [
        "True"
       ]
      }
     ],
     "prompt_number": 12
    },
    {
     "cell_type": "code",
     "collapsed": false,
     "input": [
      "# Contoh nilai string\n",
      "\"Nilai string diapit oleh tanda petik dua\""
     ],
     "language": "python",
     "metadata": {},
     "outputs": [
      {
       "metadata": {},
       "output_type": "pyout",
       "prompt_number": 18,
       "text": [
        "'Nilai string diapit oleh tanda petik dua'"
       ]
      }
     ],
     "prompt_number": 18
    },
    {
     "cell_type": "code",
     "collapsed": false,
     "input": [
      "# Contoh nilai string juga\n",
      "'Atau boleh juga diapit dengan tanda petik satu'"
     ],
     "language": "python",
     "metadata": {},
     "outputs": [
      {
       "metadata": {},
       "output_type": "pyout",
       "prompt_number": 19,
       "text": [
        "'Atau boleh juga diapit dengan tanda petik satu'"
       ]
      }
     ],
     "prompt_number": 19
    },
    {
     "cell_type": "markdown",
     "metadata": {},
     "source": [
      "Kesalahan yang umum dilakukan dalam penulisan data string\n",
      "---------------------------------------------------------\n",
      "\n",
      "Salah satu kesalahan umum yang dilakukan pemula adalah lupa menuliskan petik dua atau petik satu pada nilai String. Hal ini akan membuat Python memunculkan pesan kesalahan. Pastikan anda tidak lupa untuk menuliskan petik satu atau petik dua untuk mengapit nilai string anda"
     ]
    },
    {
     "cell_type": "code",
     "collapsed": false,
     "input": [
      "# Contoh yang salah saat membuat nilai string\n",
      "\"Nilai string yang lupa ditutup dengan tanda petik"
     ],
     "language": "python",
     "metadata": {},
     "outputs": [
      {
       "ename": "SyntaxError",
       "evalue": "EOL while scanning string literal (<ipython-input-14-62196aada655>, line 2)",
       "output_type": "pyerr",
       "traceback": [
        "\u001b[0;36m  File \u001b[0;32m\"<ipython-input-14-62196aada655>\"\u001b[0;36m, line \u001b[0;32m2\u001b[0m\n\u001b[0;31m    \"Nilai string yang lupa ditutup dengan tanda petik\u001b[0m\n\u001b[0m                                                     ^\u001b[0m\n\u001b[0;31mSyntaxError\u001b[0m\u001b[0;31m:\u001b[0m EOL while scanning string literal\n"
       ]
      }
     ],
     "prompt_number": 14
    },
    {
     "cell_type": "code",
     "collapsed": false,
     "input": [
      "# Contoh penulisan string yang salah, tanpa petik sama sekali\n",
      "Harusnya diberi petik"
     ],
     "language": "python",
     "metadata": {},
     "outputs": [
      {
       "ename": "SyntaxError",
       "evalue": "invalid syntax (<ipython-input-21-34a9af5453c1>, line 2)",
       "output_type": "pyerr",
       "traceback": [
        "\u001b[0;36m  File \u001b[0;32m\"<ipython-input-21-34a9af5453c1>\"\u001b[0;36m, line \u001b[0;32m2\u001b[0m\n\u001b[0;31m    Harusnya diberi petik\u001b[0m\n\u001b[0m                  ^\u001b[0m\n\u001b[0;31mSyntaxError\u001b[0m\u001b[0;31m:\u001b[0m invalid syntax\n"
       ]
      }
     ],
     "prompt_number": 21
    },
    {
     "cell_type": "markdown",
     "metadata": {},
     "source": [
      "Bagaimana jika ada tanda petik satu atau petik dua dalam string saya?\n",
      "---------------------------------------------------------------------\n",
      "\n",
      "Terkadang nilai string yang ingin anda tulis juga mengandung karakter petik satu atau petik dua. Ini tentu saja akan sedikit merepotkan. Misalnya anda ingin mengetikkan string seperti ini:\n",
      "\n",
      "```\n",
      "Juliet berlari menghampiri Romeo, sambil berseru, \"Bawa aku bersamamu....\"\n",
      "```\n",
      "\n",
      "Jika anda menuliskannya seperti ini:"
     ]
    },
    {
     "cell_type": "code",
     "collapsed": false,
     "input": [
      "\"Juliet berlari menghampiri Romeo, sambil berseru, \"Bawa aku bersamamu....\""
     ],
     "language": "python",
     "metadata": {},
     "outputs": [
      {
       "ename": "SyntaxError",
       "evalue": "invalid syntax (<ipython-input-22-7b00f5f08f2c>, line 1)",
       "output_type": "pyerr",
       "traceback": [
        "\u001b[0;36m  File \u001b[0;32m\"<ipython-input-22-7b00f5f08f2c>\"\u001b[0;36m, line \u001b[0;32m1\u001b[0m\n\u001b[0;31m    \"Juliet berlari menghampiri Romeo, sambil berseru, \"Bawa aku bersamamu....\"\u001b[0m\n\u001b[0m                                                           ^\u001b[0m\n\u001b[0;31mSyntaxError\u001b[0m\u001b[0;31m:\u001b[0m invalid syntax\n"
       ]
      }
     ],
     "prompt_number": 22
    },
    {
     "cell_type": "markdown",
     "metadata": {},
     "source": [
      "Maka akan muncul pesan kesalahan. Pasalnya Python akan memandang kalimat `Juliet berlari menghampiri Romeo, sambil berseru, ` sebagai suatu string, sedangkan karakter di belakang itu menjadi karakter-karakter yang tidak dikenali oleh Python.\n",
      "\n",
      "Lalu bagaimana cara mengatasi ini?\n",
      "\n",
      "Sederhana saja, anda bisa menggunakan petik satu seperti berikut:"
     ]
    },
    {
     "cell_type": "code",
     "collapsed": false,
     "input": [
      "'Juliet berlari menghampiri Romeo, sambil berseru, \"Bawa aku bersamamu....\"'"
     ],
     "language": "python",
     "metadata": {},
     "outputs": [
      {
       "metadata": {},
       "output_type": "pyout",
       "prompt_number": 23,
       "text": [
        "'Juliet berlari menghampiri Romeo, sambil berseru, \"Bawa aku bersamamu....\"'"
       ]
      }
     ],
     "prompt_number": 23
    },
    {
     "cell_type": "markdown",
     "metadata": {},
     "source": [
      "Cara tersebut adalah cara yang paling sederhana, dan bisa berjalan efektif. Jadi jika ada bagian dari string anda yang berupa karakter petik dua, gunakan petik satu sebagai pembatas string. Sebaliknya, jika ada bagian dari string anda yang berupa karakter petik satu, gunakan petik dua sebagai pembatas string.\n",
      "\n",
      "Awalnya anda mungkin akan merasa sedikit kesusahan dalam membedakan petik yang merupakan pembatas string dan petik yang merupakan bagian dari string. Percayalah, bahkan seorang programmer profesionalpun sering berhadapan dengan kesulitan serupa.\n",
      "\n",
      "Lalu bagaimana seandainya ada karakter petik satu dan petik dua dalam string yang anda tulis? Misalkan anda ingin menulis string berikut:\n",
      "\n",
      "```\n",
      "Karakter ' dan \" adalah pembatas string dalam bahasa pemrograman Python.\n",
      "```\n",
      "\n",
      "Anda bisa menggunakan `escape character`, yakni karakter `\\` "
     ]
    },
    {
     "cell_type": "code",
     "collapsed": false,
     "input": [
      "\"Karakter ' dan \\\" adalah pembatas string dalam bahasa pemrograman Python.\""
     ],
     "language": "python",
     "metadata": {},
     "outputs": [
      {
       "metadata": {},
       "output_type": "pyout",
       "prompt_number": 24,
       "text": [
        "'Karakter \\' dan \" adalah pembatas string dalam bahasa pemrograman Python.'"
       ]
      }
     ],
     "prompt_number": 24
    },
    {
     "cell_type": "markdown",
     "metadata": {},
     "source": [
      "Nilai None\n",
      "----------\n",
      "Berbeda dengan contoh-contoh sebelumnya, nilai `None` tidak akan memunculkan apapun. Biasanya nilai ini hanya akan digunakan dalam kondisi-kondisi khusus saja, sehingga anda bisa mengabaikannya untuk saat ini."
     ]
    },
    {
     "cell_type": "code",
     "collapsed": false,
     "input": [
      "# Contoh nilai None, tidak memunculkan apapun\n",
      "None"
     ],
     "language": "python",
     "metadata": {},
     "outputs": [],
     "prompt_number": 20
    },
    {
     "cell_type": "heading",
     "level": 1,
     "metadata": {},
     "source": [
      "Operator"
     ]
    },
    {
     "cell_type": "markdown",
     "metadata": {},
     "source": [
      "Anda sudah mengenal berbagai tipe data umum dalam bahasa pemrograman Python. Setiap nilai/literal selalu memiliki tipe data tertentu. Melalui operasi-operasi tertentu, kita bisa menciptakan nilai baru dari beberapa nilai lama. Anda pasti mengenal bentuk berikut:\n",
      "\n",
      "```\n",
      "1 + 4 = 5\n",
      "```\n",
      "\n",
      "nilai `5` terbentuk dari __operasi penjumlahan__ yang melibatkan dua __nilai lama__, yakni `1` dan `4`. Tanda `+` disebut"
     ]
    },
    {
     "cell_type": "code",
     "collapsed": false,
     "input": [],
     "language": "python",
     "metadata": {},
     "outputs": []
    }
   ],
   "metadata": {}
  }
 ]
}