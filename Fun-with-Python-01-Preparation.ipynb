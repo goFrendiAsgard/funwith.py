{
 "metadata": {
  "name": ""
 },
 "nbformat": 3,
 "nbformat_minor": 0,
 "worksheets": [
  {
   "cells": [
    {
     "cell_type": "heading",
     "level": 1,
     "metadata": {},
     "source": [
      "Introduction"
     ]
    },
    {
     "cell_type": "markdown",
     "metadata": {},
     "source": [
      "This section is intended for they who are new to `Python` and computer programming.\n",
      "\n",
      "Computer programming is a fun activity to write some program-code in specific programming-language. Program-code is a set of instruction that can be translated into machine-language, so that computer can do the instruction obediently. Python is an example of programming language. It is very close to human-language (English).\n",
      "\n",
      "Programming is fun, and programming in `Python` is awesomely fun. Before we jump into this fun activity, let's do some preparation by installing several things into your computer."
     ]
    },
    {
     "cell_type": "heading",
     "level": 2,
     "metadata": {},
     "source": [
      "Brief History of Python"
     ]
    },
    {
     "cell_type": "markdown",
     "metadata": {},
     "source": [
      "Python was conceived in the late 1980 and its implementation was started in December 1989 by Guido van Rossum at CWI in the Netherlands as a successor to the ABC programming language capable of exception handling and interfacing with the Amoeba operating system. Van Rossum is Python's principal author, and his continuing central role in deciding the direction of Python is reflected in the title given to him by the Python community, Benevolent Dictator for Life (BDFL).\n",
      "\n",
      "![Python Logo](./resource/python-logo.png)\n",
      "\n",
      "Python 2.0 was released on 16 October 2000, with many major new features including a full garbage collector and support for unicode. However, the most important change was to the development process itself, with a shift to a more transparent and community-backed process. Python 3.0, a major, backwards-incompatible release, was released on 3 December 2008 after a long period of testing. Many of its major features have also been backported to the backwards-compatible Python 2.6 and 2.7\n",
      "\n",
      "(taken from wikipedia)"
     ]
    },
    {
     "cell_type": "heading",
     "level": 2,
     "metadata": {},
     "source": [
      "Advantage of Using Python"
     ]
    },
    {
     "cell_type": "heading",
     "level": 2,
     "metadata": {},
     "source": [
      "Drawback of Using Python"
     ]
    },
    {
     "cell_type": "heading",
     "level": 1,
     "metadata": {},
     "source": [
      "Preparation"
     ]
    },
    {
     "cell_type": "heading",
     "level": 2,
     "metadata": {},
     "source": [
      "Preparation for Windows Users"
     ]
    },
    {
     "cell_type": "markdown",
     "metadata": {},
     "source": [
      "Windows doesn't have Python pre-installed. Thus, you need to install it manually. Fortunatly, there are good guys from `continuum analytics` who have already prepare the installer for us.\n",
      "\n",
      "You can download the windows-installer from [http://continuum.io/downloads](http://continuum.io/downloads).\n",
      "After download the installer, you should execute it. For now, leave all the options into default.\n",
      "\n",
      "Now you are ready to have fun..."
     ]
    },
    {
     "cell_type": "heading",
     "level": 2,
     "metadata": {},
     "source": [
      "Preparation for Linux or Mac Users"
     ]
    },
    {
     "cell_type": "markdown",
     "metadata": {},
     "source": [
      "The good thing about using Linux is you have freedom to setup everything.\n",
      "\n",
      "Most linux distribution already has `Python` pre-installed. However, for more pleasent experience, I suggest you to install `pip` and `Ipython`.\n",
      "\n",
      "Pip is python package installer. Think it as `apt` or `yum` for python library.\n",
      "\n",
      "To install pip, you can do this:\n",
      "\n",
      "```\n",
      "$ sudo apt-get install python-pip python-dev build-essential \n",
      "$ sudo pip install --upgrade pip \n",
      "```\n",
      "\n",
      "To install Ipython, you can do this:\n",
      "\n",
      "```\n",
      "$ sudo pip install --upgrade ipython[all]\n",
      "```\n",
      "\n",
      "if you don't like to type a lot of command in the command prompt, you can use the linux-installer from [http://continuum.io/downloads](http://continuum.io/downloads) and type this in your command-prompt\n",
      "\n",
      "```\n",
      "$ sudo Anaconda-2.1.0-Linux-x86.sh\n",
      "```\n",
      "\n",
      "For Mac user, you can download the installer for mac and do this:\n",
      "```\n",
      "$ sudo Anaconda-2.1.0-MacOSX-x86_64.sh\n",
      "```\n",
      "\n"
     ]
    },
    {
     "cell_type": "heading",
     "level": 1,
     "metadata": {},
     "source": [
      "First Step to Python"
     ]
    },
    {
     "cell_type": "heading",
     "level": 2,
     "metadata": {},
     "source": [
      "IPython (Interactive Python)"
     ]
    },
    {
     "cell_type": "markdown",
     "metadata": {},
     "source": [
      "IPython stand for Interactive-Python. This is a good environment if you want to see the immediate output of your code.\n",
      "You can start IPython by type\n",
      "\n",
      "```\n",
      "ipython\n",
      "```\n",
      "\n",
      "in your command prompt, and you will see this immediately:\n",
      "\n",
      "```\n",
      "Type \"copyright\", \"credits\" or \"license\" for more information.\n",
      "\n",
      "IPython 1.2.1 -- An enhanced Interactive Python.\n",
      "?         -> Introduction and overview of IPython's features.\n",
      "%quickref -> Quick reference.\n",
      "help      -> Python's own help system.\n",
      "object?   -> Details about 'object', use 'object??' for extra details.\n",
      "\n",
      "In [1]: \n",
      "\n",
      "```\n",
      "\n",
      "The `In[1]` means the first input of your program. Try to write this piece of code:"
     ]
    },
    {
     "cell_type": "code",
     "collapsed": false,
     "input": [
      "print(\"Hello world\")"
     ],
     "language": "python",
     "metadata": {},
     "outputs": [
      {
       "output_type": "stream",
       "stream": "stdout",
       "text": [
        "Hello world\n"
       ]
      }
     ],
     "prompt_number": 1
    },
    {
     "cell_type": "markdown",
     "metadata": {},
     "source": [
      "`print` is a function to write data into your screen. `\"Hello World !!!\"` is your data."
     ]
    },
    {
     "cell_type": "heading",
     "level": 2,
     "metadata": {},
     "source": [
      "IPython Notebook"
     ]
    },
    {
     "cell_type": "markdown",
     "metadata": {},
     "source": [
      "IPython also has a web-based user interface. This is very convenient if command-prompt-console scare you that much :)\n",
      "\n",
      "To access IPython-Notebook, open up your command prompt, and type this:\n",
      "\n",
      "```\n",
      "ipython notebook\n",
      "```\n",
      "\n",
      "Now, open up your browser at\n",
      "```\n",
      "http://127.0.0.1:8888\n",
      "```\n",
      "Create a new note, and play around.\n",
      "Try to do what we have done in our previous section.\n",
      "\n",
      "The good thing about Notebook is it is literally a notebook. You can write a note next to your code. You can write `markdown` and $L_AT_EX$ syntax. We will discuss about it in my second book.\n",
      "\n",
      "__TODO:__ More explanation about the usage"
     ]
    },
    {
     "cell_type": "heading",
     "level": 2,
     "metadata": {},
     "source": [
      "Python File"
     ]
    },
    {
     "cell_type": "markdown",
     "metadata": {},
     "source": [
      "Most of time we need to save our code in a file so that we can include it on another program. This type of architecture is called `modular programming`.\n",
      "\n",
      "Try to make a file named `hello.py` this code inside the file:\n",
      "\n",
      "```\n",
      "print(\"Hello World !!!\")\n",
      "```\n",
      "\n",
      "Now, open up your command prompt, and run this:\n",
      "```\n",
      "python hello.py\n",
      "```"
     ]
    }
   ],
   "metadata": {}
  }
 ]
}