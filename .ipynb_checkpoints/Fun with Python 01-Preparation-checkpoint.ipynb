{
 "metadata": {
  "name": ""
 },
 "nbformat": 3,
 "nbformat_minor": 0,
 "worksheets": [
  {
   "cells": [
    {
     "cell_type": "heading",
     "level": 1,
     "metadata": {},
     "source": [
      "Preparation"
     ]
    },
    {
     "cell_type": "markdown",
     "metadata": {},
     "source": [
      "This section is intended for they who are new to `Python` and computer programming.\n",
      "\n",
      "Computer programming is a fun activity to write some program-code in specific programming-language. Program-code is a set of instruction that can be translated into machine-language, so that computer can do the instruction obediently. Python is an example of programming language. It is very close to human-language (English).\n",
      "\n",
      "Programming is fun, and programming in `Python` is awesomely fun. Before we jump into this fun activity, let's do some preparation by installing several things into your computer."
     ]
    },
    {
     "cell_type": "heading",
     "level": 2,
     "metadata": {},
     "source": [
      "Preparation for Windows user"
     ]
    },
    {
     "cell_type": "code",
     "collapsed": false,
     "input": [],
     "language": "python",
     "metadata": {},
     "outputs": []
    }
   ],
   "metadata": {}
  }
 ]
}